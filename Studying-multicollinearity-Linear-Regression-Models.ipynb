{
 "cells": [
  {
   "cell_type": "markdown",
   "metadata": {},
   "source": [
    "# Studying the impact of multicollinearity in linear regression models\n",
    "\n",
    "**Author: Adrieli Dal'Toé**\n",
    "\n",
    "In this notebook the problem of multicollinearity will be explored. Multicollinearity appears when independent features in a regression model are associated with one another. This relationship turns difficult to evaluate the features that are most important and makes the parameters of the model not statistical reliable. The main assumption to the interpretability of the parameters in a linear regression model is that the predictors are linearly independent. The parameters weigths the mean change in Y resulting from 1 unit change in a specific X when all the other predictors remain unchanged. If the predictors are associated, then this condition is no longer valid. \n",
    "\n",
    "Multicollinearity impacts the statistics of the predictors that are correlated and difficults the interpretability of the model. "
   ]
  },
  {
   "cell_type": "code",
   "execution_count": 39,
   "metadata": {},
   "outputs": [],
   "source": [
    "# Data manipulation and visualization\n",
    "import numpy as np\n",
    "import pandas as pd\n",
    "import matplotlib.pyplot as plt\n",
    "import seaborn as sns\n",
    "\n",
    "# Linear Regression\n",
    "import statsmodels.api as sm\n",
    "from sklearn.model_selection import train_test_split\n",
    "from sklearn.preprocessing import StandardScaler\n",
    "from sklearn.metrics import mean_squared_error\n",
    "from sklearn.linear_model import LinearRegression\n",
    "from sklearn.metrics import r2_score\n",
    "\n",
    "import warnings\n",
    "warnings.filterwarnings(\"ignore\")\n",
    "%matplotlib inline "
   ]
  },
  {
   "cell_type": "code",
   "execution_count": 3,
   "metadata": {},
   "outputs": [],
   "source": [
    "# Importing the data\n",
    "from sklearn.datasets import load_boston\n",
    "df = load_boston()\n",
    "data = pd.DataFrame(data = df.data, columns = df.feature_names)\n",
    "data['target'] = df.target"
   ]
  },
  {
   "cell_type": "code",
   "execution_count": 4,
   "metadata": {},
   "outputs": [
    {
     "data": {
      "text/html": [
       "<div>\n",
       "<style scoped>\n",
       "    .dataframe tbody tr th:only-of-type {\n",
       "        vertical-align: middle;\n",
       "    }\n",
       "\n",
       "    .dataframe tbody tr th {\n",
       "        vertical-align: top;\n",
       "    }\n",
       "\n",
       "    .dataframe thead th {\n",
       "        text-align: right;\n",
       "    }\n",
       "</style>\n",
       "<table border=\"1\" class=\"dataframe\">\n",
       "  <thead>\n",
       "    <tr style=\"text-align: right;\">\n",
       "      <th></th>\n",
       "      <th>CRIM</th>\n",
       "      <th>ZN</th>\n",
       "      <th>INDUS</th>\n",
       "      <th>CHAS</th>\n",
       "      <th>NOX</th>\n",
       "      <th>RM</th>\n",
       "      <th>AGE</th>\n",
       "      <th>DIS</th>\n",
       "      <th>RAD</th>\n",
       "      <th>TAX</th>\n",
       "      <th>PTRATIO</th>\n",
       "      <th>B</th>\n",
       "      <th>LSTAT</th>\n",
       "      <th>target</th>\n",
       "    </tr>\n",
       "  </thead>\n",
       "  <tbody>\n",
       "    <tr>\n",
       "      <th>0</th>\n",
       "      <td>0.00632</td>\n",
       "      <td>18.0</td>\n",
       "      <td>2.31</td>\n",
       "      <td>0.0</td>\n",
       "      <td>0.538</td>\n",
       "      <td>6.575</td>\n",
       "      <td>65.2</td>\n",
       "      <td>4.0900</td>\n",
       "      <td>1.0</td>\n",
       "      <td>296.0</td>\n",
       "      <td>15.3</td>\n",
       "      <td>396.90</td>\n",
       "      <td>4.98</td>\n",
       "      <td>24.0</td>\n",
       "    </tr>\n",
       "    <tr>\n",
       "      <th>1</th>\n",
       "      <td>0.02731</td>\n",
       "      <td>0.0</td>\n",
       "      <td>7.07</td>\n",
       "      <td>0.0</td>\n",
       "      <td>0.469</td>\n",
       "      <td>6.421</td>\n",
       "      <td>78.9</td>\n",
       "      <td>4.9671</td>\n",
       "      <td>2.0</td>\n",
       "      <td>242.0</td>\n",
       "      <td>17.8</td>\n",
       "      <td>396.90</td>\n",
       "      <td>9.14</td>\n",
       "      <td>21.6</td>\n",
       "    </tr>\n",
       "    <tr>\n",
       "      <th>2</th>\n",
       "      <td>0.02729</td>\n",
       "      <td>0.0</td>\n",
       "      <td>7.07</td>\n",
       "      <td>0.0</td>\n",
       "      <td>0.469</td>\n",
       "      <td>7.185</td>\n",
       "      <td>61.1</td>\n",
       "      <td>4.9671</td>\n",
       "      <td>2.0</td>\n",
       "      <td>242.0</td>\n",
       "      <td>17.8</td>\n",
       "      <td>392.83</td>\n",
       "      <td>4.03</td>\n",
       "      <td>34.7</td>\n",
       "    </tr>\n",
       "    <tr>\n",
       "      <th>3</th>\n",
       "      <td>0.03237</td>\n",
       "      <td>0.0</td>\n",
       "      <td>2.18</td>\n",
       "      <td>0.0</td>\n",
       "      <td>0.458</td>\n",
       "      <td>6.998</td>\n",
       "      <td>45.8</td>\n",
       "      <td>6.0622</td>\n",
       "      <td>3.0</td>\n",
       "      <td>222.0</td>\n",
       "      <td>18.7</td>\n",
       "      <td>394.63</td>\n",
       "      <td>2.94</td>\n",
       "      <td>33.4</td>\n",
       "    </tr>\n",
       "    <tr>\n",
       "      <th>4</th>\n",
       "      <td>0.06905</td>\n",
       "      <td>0.0</td>\n",
       "      <td>2.18</td>\n",
       "      <td>0.0</td>\n",
       "      <td>0.458</td>\n",
       "      <td>7.147</td>\n",
       "      <td>54.2</td>\n",
       "      <td>6.0622</td>\n",
       "      <td>3.0</td>\n",
       "      <td>222.0</td>\n",
       "      <td>18.7</td>\n",
       "      <td>396.90</td>\n",
       "      <td>5.33</td>\n",
       "      <td>36.2</td>\n",
       "    </tr>\n",
       "  </tbody>\n",
       "</table>\n",
       "</div>"
      ],
      "text/plain": [
       "      CRIM    ZN  INDUS  CHAS    NOX     RM   AGE     DIS  RAD    TAX  \\\n",
       "0  0.00632  18.0   2.31   0.0  0.538  6.575  65.2  4.0900  1.0  296.0   \n",
       "1  0.02731   0.0   7.07   0.0  0.469  6.421  78.9  4.9671  2.0  242.0   \n",
       "2  0.02729   0.0   7.07   0.0  0.469  7.185  61.1  4.9671  2.0  242.0   \n",
       "3  0.03237   0.0   2.18   0.0  0.458  6.998  45.8  6.0622  3.0  222.0   \n",
       "4  0.06905   0.0   2.18   0.0  0.458  7.147  54.2  6.0622  3.0  222.0   \n",
       "\n",
       "   PTRATIO       B  LSTAT  target  \n",
       "0     15.3  396.90   4.98    24.0  \n",
       "1     17.8  396.90   9.14    21.6  \n",
       "2     17.8  392.83   4.03    34.7  \n",
       "3     18.7  394.63   2.94    33.4  \n",
       "4     18.7  396.90   5.33    36.2  "
      ]
     },
     "execution_count": 4,
     "metadata": {},
     "output_type": "execute_result"
    }
   ],
   "source": [
    "data.head()"
   ]
  },
  {
   "cell_type": "code",
   "execution_count": 5,
   "metadata": {},
   "outputs": [
    {
     "data": {
      "text/plain": [
       "(506, 14)"
      ]
     },
     "execution_count": 5,
     "metadata": {},
     "output_type": "execute_result"
    }
   ],
   "source": [
    "data.shape"
   ]
  },
  {
   "cell_type": "code",
   "execution_count": 6,
   "metadata": {},
   "outputs": [
    {
     "data": {
      "text/html": [
       "<div>\n",
       "<style scoped>\n",
       "    .dataframe tbody tr th:only-of-type {\n",
       "        vertical-align: middle;\n",
       "    }\n",
       "\n",
       "    .dataframe tbody tr th {\n",
       "        vertical-align: top;\n",
       "    }\n",
       "\n",
       "    .dataframe thead th {\n",
       "        text-align: right;\n",
       "    }\n",
       "</style>\n",
       "<table border=\"1\" class=\"dataframe\">\n",
       "  <thead>\n",
       "    <tr style=\"text-align: right;\">\n",
       "      <th></th>\n",
       "      <th>CRIM</th>\n",
       "      <th>ZN</th>\n",
       "      <th>INDUS</th>\n",
       "      <th>CHAS</th>\n",
       "      <th>NOX</th>\n",
       "      <th>RM</th>\n",
       "      <th>AGE</th>\n",
       "      <th>DIS</th>\n",
       "      <th>RAD</th>\n",
       "      <th>TAX</th>\n",
       "      <th>PTRATIO</th>\n",
       "      <th>B</th>\n",
       "      <th>LSTAT</th>\n",
       "      <th>target</th>\n",
       "    </tr>\n",
       "  </thead>\n",
       "  <tbody>\n",
       "    <tr>\n",
       "      <th>count</th>\n",
       "      <td>506.000000</td>\n",
       "      <td>506.000000</td>\n",
       "      <td>506.000000</td>\n",
       "      <td>506.000000</td>\n",
       "      <td>506.000000</td>\n",
       "      <td>506.000000</td>\n",
       "      <td>506.000000</td>\n",
       "      <td>506.000000</td>\n",
       "      <td>506.000000</td>\n",
       "      <td>506.000000</td>\n",
       "      <td>506.000000</td>\n",
       "      <td>506.000000</td>\n",
       "      <td>506.000000</td>\n",
       "      <td>506.000000</td>\n",
       "    </tr>\n",
       "    <tr>\n",
       "      <th>mean</th>\n",
       "      <td>3.613524</td>\n",
       "      <td>11.363636</td>\n",
       "      <td>11.136779</td>\n",
       "      <td>0.069170</td>\n",
       "      <td>0.554695</td>\n",
       "      <td>6.284634</td>\n",
       "      <td>68.574901</td>\n",
       "      <td>3.795043</td>\n",
       "      <td>9.549407</td>\n",
       "      <td>408.237154</td>\n",
       "      <td>18.455534</td>\n",
       "      <td>356.674032</td>\n",
       "      <td>12.653063</td>\n",
       "      <td>22.532806</td>\n",
       "    </tr>\n",
       "    <tr>\n",
       "      <th>std</th>\n",
       "      <td>8.601545</td>\n",
       "      <td>23.322453</td>\n",
       "      <td>6.860353</td>\n",
       "      <td>0.253994</td>\n",
       "      <td>0.115878</td>\n",
       "      <td>0.702617</td>\n",
       "      <td>28.148861</td>\n",
       "      <td>2.105710</td>\n",
       "      <td>8.707259</td>\n",
       "      <td>168.537116</td>\n",
       "      <td>2.164946</td>\n",
       "      <td>91.294864</td>\n",
       "      <td>7.141062</td>\n",
       "      <td>9.197104</td>\n",
       "    </tr>\n",
       "    <tr>\n",
       "      <th>min</th>\n",
       "      <td>0.006320</td>\n",
       "      <td>0.000000</td>\n",
       "      <td>0.460000</td>\n",
       "      <td>0.000000</td>\n",
       "      <td>0.385000</td>\n",
       "      <td>3.561000</td>\n",
       "      <td>2.900000</td>\n",
       "      <td>1.129600</td>\n",
       "      <td>1.000000</td>\n",
       "      <td>187.000000</td>\n",
       "      <td>12.600000</td>\n",
       "      <td>0.320000</td>\n",
       "      <td>1.730000</td>\n",
       "      <td>5.000000</td>\n",
       "    </tr>\n",
       "    <tr>\n",
       "      <th>25%</th>\n",
       "      <td>0.082045</td>\n",
       "      <td>0.000000</td>\n",
       "      <td>5.190000</td>\n",
       "      <td>0.000000</td>\n",
       "      <td>0.449000</td>\n",
       "      <td>5.885500</td>\n",
       "      <td>45.025000</td>\n",
       "      <td>2.100175</td>\n",
       "      <td>4.000000</td>\n",
       "      <td>279.000000</td>\n",
       "      <td>17.400000</td>\n",
       "      <td>375.377500</td>\n",
       "      <td>6.950000</td>\n",
       "      <td>17.025000</td>\n",
       "    </tr>\n",
       "    <tr>\n",
       "      <th>50%</th>\n",
       "      <td>0.256510</td>\n",
       "      <td>0.000000</td>\n",
       "      <td>9.690000</td>\n",
       "      <td>0.000000</td>\n",
       "      <td>0.538000</td>\n",
       "      <td>6.208500</td>\n",
       "      <td>77.500000</td>\n",
       "      <td>3.207450</td>\n",
       "      <td>5.000000</td>\n",
       "      <td>330.000000</td>\n",
       "      <td>19.050000</td>\n",
       "      <td>391.440000</td>\n",
       "      <td>11.360000</td>\n",
       "      <td>21.200000</td>\n",
       "    </tr>\n",
       "    <tr>\n",
       "      <th>75%</th>\n",
       "      <td>3.677083</td>\n",
       "      <td>12.500000</td>\n",
       "      <td>18.100000</td>\n",
       "      <td>0.000000</td>\n",
       "      <td>0.624000</td>\n",
       "      <td>6.623500</td>\n",
       "      <td>94.075000</td>\n",
       "      <td>5.188425</td>\n",
       "      <td>24.000000</td>\n",
       "      <td>666.000000</td>\n",
       "      <td>20.200000</td>\n",
       "      <td>396.225000</td>\n",
       "      <td>16.955000</td>\n",
       "      <td>25.000000</td>\n",
       "    </tr>\n",
       "    <tr>\n",
       "      <th>max</th>\n",
       "      <td>88.976200</td>\n",
       "      <td>100.000000</td>\n",
       "      <td>27.740000</td>\n",
       "      <td>1.000000</td>\n",
       "      <td>0.871000</td>\n",
       "      <td>8.780000</td>\n",
       "      <td>100.000000</td>\n",
       "      <td>12.126500</td>\n",
       "      <td>24.000000</td>\n",
       "      <td>711.000000</td>\n",
       "      <td>22.000000</td>\n",
       "      <td>396.900000</td>\n",
       "      <td>37.970000</td>\n",
       "      <td>50.000000</td>\n",
       "    </tr>\n",
       "  </tbody>\n",
       "</table>\n",
       "</div>"
      ],
      "text/plain": [
       "             CRIM          ZN       INDUS        CHAS         NOX          RM  \\\n",
       "count  506.000000  506.000000  506.000000  506.000000  506.000000  506.000000   \n",
       "mean     3.613524   11.363636   11.136779    0.069170    0.554695    6.284634   \n",
       "std      8.601545   23.322453    6.860353    0.253994    0.115878    0.702617   \n",
       "min      0.006320    0.000000    0.460000    0.000000    0.385000    3.561000   \n",
       "25%      0.082045    0.000000    5.190000    0.000000    0.449000    5.885500   \n",
       "50%      0.256510    0.000000    9.690000    0.000000    0.538000    6.208500   \n",
       "75%      3.677083   12.500000   18.100000    0.000000    0.624000    6.623500   \n",
       "max     88.976200  100.000000   27.740000    1.000000    0.871000    8.780000   \n",
       "\n",
       "              AGE         DIS         RAD         TAX     PTRATIO           B  \\\n",
       "count  506.000000  506.000000  506.000000  506.000000  506.000000  506.000000   \n",
       "mean    68.574901    3.795043    9.549407  408.237154   18.455534  356.674032   \n",
       "std     28.148861    2.105710    8.707259  168.537116    2.164946   91.294864   \n",
       "min      2.900000    1.129600    1.000000  187.000000   12.600000    0.320000   \n",
       "25%     45.025000    2.100175    4.000000  279.000000   17.400000  375.377500   \n",
       "50%     77.500000    3.207450    5.000000  330.000000   19.050000  391.440000   \n",
       "75%     94.075000    5.188425   24.000000  666.000000   20.200000  396.225000   \n",
       "max    100.000000   12.126500   24.000000  711.000000   22.000000  396.900000   \n",
       "\n",
       "            LSTAT      target  \n",
       "count  506.000000  506.000000  \n",
       "mean    12.653063   22.532806  \n",
       "std      7.141062    9.197104  \n",
       "min      1.730000    5.000000  \n",
       "25%      6.950000   17.025000  \n",
       "50%     11.360000   21.200000  \n",
       "75%     16.955000   25.000000  \n",
       "max     37.970000   50.000000  "
      ]
     },
     "execution_count": 6,
     "metadata": {},
     "output_type": "execute_result"
    }
   ],
   "source": [
    "data.describe()"
   ]
  },
  {
   "cell_type": "code",
   "execution_count": 7,
   "metadata": {},
   "outputs": [
    {
     "data": {
      "text/plain": [
       "CRIM       0\n",
       "ZN         0\n",
       "INDUS      0\n",
       "CHAS       0\n",
       "NOX        0\n",
       "RM         0\n",
       "AGE        0\n",
       "DIS        0\n",
       "RAD        0\n",
       "TAX        0\n",
       "PTRATIO    0\n",
       "B          0\n",
       "LSTAT      0\n",
       "target     0\n",
       "dtype: int64"
      ]
     },
     "execution_count": 7,
     "metadata": {},
     "output_type": "execute_result"
    }
   ],
   "source": [
    "# No missing values\n",
    "data.isna().sum()"
   ]
  },
  {
   "cell_type": "markdown",
   "metadata": {},
   "source": [
    "#### Splitting the data"
   ]
  },
  {
   "cell_type": "code",
   "execution_count": 15,
   "metadata": {},
   "outputs": [],
   "source": [
    "X = data.drop(columns='target')\n",
    "y = data['target']\n",
    "\n",
    "# Scaling the data\n",
    "scaler = StandardScaler()\n",
    "X = scaler.fit_transform(X)\n",
    "X = pd.DataFrame(X, columns=data.columns[:-1])\n",
    "\n",
    "X_train, X_test, y_train, y_test = train_test_split(X, y, test_size=0.2, random_state=42)"
   ]
  },
  {
   "cell_type": "markdown",
   "metadata": {},
   "source": [
    "### Linear Regression: Model 1 \n",
    "\n",
    "Let's train a base linear regression model using all the features available. Statsmodels library will be used because it provides a complete statistical summary of the model."
   ]
  },
  {
   "cell_type": "code",
   "execution_count": 16,
   "metadata": {},
   "outputs": [
    {
     "data": {
      "text/html": [
       "<table class=\"simpletable\">\n",
       "<caption>OLS Regression Results</caption>\n",
       "<tr>\n",
       "  <th>Dep. Variable:</th>         <td>target</td>      <th>  R-squared:         </th> <td>   0.751</td> \n",
       "</tr>\n",
       "<tr>\n",
       "  <th>Model:</th>                   <td>OLS</td>       <th>  Adj. R-squared:    </th> <td>   0.743</td> \n",
       "</tr>\n",
       "<tr>\n",
       "  <th>Method:</th>             <td>Least Squares</td>  <th>  F-statistic:       </th> <td>   90.43</td> \n",
       "</tr>\n",
       "<tr>\n",
       "  <th>Date:</th>             <td>Tue, 04 May 2021</td> <th>  Prob (F-statistic):</th> <td>6.21e-109</td>\n",
       "</tr>\n",
       "<tr>\n",
       "  <th>Time:</th>                 <td>09:45:19</td>     <th>  Log-Likelihood:    </th> <td> -1194.3</td> \n",
       "</tr>\n",
       "<tr>\n",
       "  <th>No. Observations:</th>      <td>   404</td>      <th>  AIC:               </th> <td>   2417.</td> \n",
       "</tr>\n",
       "<tr>\n",
       "  <th>Df Residuals:</th>          <td>   390</td>      <th>  BIC:               </th> <td>   2473.</td> \n",
       "</tr>\n",
       "<tr>\n",
       "  <th>Df Model:</th>              <td>    13</td>      <th>                     </th>     <td> </td>    \n",
       "</tr>\n",
       "<tr>\n",
       "  <th>Covariance Type:</th>      <td>nonrobust</td>    <th>                     </th>     <td> </td>    \n",
       "</tr>\n",
       "</table>\n",
       "<table class=\"simpletable\">\n",
       "<tr>\n",
       "     <td></td>        <th>coef</th>     <th>std err</th>      <th>t</th>      <th>P>|t|</th>  <th>[0.025</th>    <th>0.975]</th>  \n",
       "</tr>\n",
       "<tr>\n",
       "  <th>const</th>   <td>   22.4853</td> <td>    0.236</td> <td>   95.096</td> <td> 0.000</td> <td>   22.020</td> <td>   22.950</td>\n",
       "</tr>\n",
       "<tr>\n",
       "  <th>CRIM</th>    <td>   -0.9715</td> <td>    0.299</td> <td>   -3.250</td> <td> 0.001</td> <td>   -1.559</td> <td>   -0.384</td>\n",
       "</tr>\n",
       "<tr>\n",
       "  <th>ZN</th>      <td>    0.7016</td> <td>    0.373</td> <td>    1.882</td> <td> 0.061</td> <td>   -0.031</td> <td>    1.434</td>\n",
       "</tr>\n",
       "<tr>\n",
       "  <th>INDUS</th>   <td>    0.2768</td> <td>    0.462</td> <td>    0.599</td> <td> 0.549</td> <td>   -0.631</td> <td>    1.184</td>\n",
       "</tr>\n",
       "<tr>\n",
       "  <th>CHAS</th>    <td>    0.7065</td> <td>    0.242</td> <td>    2.914</td> <td> 0.004</td> <td>    0.230</td> <td>    1.183</td>\n",
       "</tr>\n",
       "<tr>\n",
       "  <th>NOX</th>     <td>   -1.9914</td> <td>    0.490</td> <td>   -4.061</td> <td> 0.000</td> <td>   -2.956</td> <td>   -1.027</td>\n",
       "</tr>\n",
       "<tr>\n",
       "  <th>RM</th>      <td>    3.1157</td> <td>    0.326</td> <td>    9.567</td> <td> 0.000</td> <td>    2.475</td> <td>    3.756</td>\n",
       "</tr>\n",
       "<tr>\n",
       "  <th>AGE</th>     <td>   -0.1771</td> <td>    0.410</td> <td>   -0.432</td> <td> 0.666</td> <td>   -0.982</td> <td>    0.628</td>\n",
       "</tr>\n",
       "<tr>\n",
       "  <th>DIS</th>     <td>   -3.0458</td> <td>    0.475</td> <td>   -6.408</td> <td> 0.000</td> <td>   -3.980</td> <td>   -2.111</td>\n",
       "</tr>\n",
       "<tr>\n",
       "  <th>RAD</th>     <td>    2.2828</td> <td>    0.661</td> <td>    3.454</td> <td> 0.001</td> <td>    0.983</td> <td>    3.582</td>\n",
       "</tr>\n",
       "<tr>\n",
       "  <th>TAX</th>     <td>   -1.7926</td> <td>    0.715</td> <td>   -2.508</td> <td> 0.013</td> <td>   -3.198</td> <td>   -0.388</td>\n",
       "</tr>\n",
       "<tr>\n",
       "  <th>PTRATIO</th> <td>   -1.9800</td> <td>    0.311</td> <td>   -6.357</td> <td> 0.000</td> <td>   -2.592</td> <td>   -1.368</td>\n",
       "</tr>\n",
       "<tr>\n",
       "  <th>B</th>       <td>    1.1265</td> <td>    0.270</td> <td>    4.166</td> <td> 0.000</td> <td>    0.595</td> <td>    1.658</td>\n",
       "</tr>\n",
       "<tr>\n",
       "  <th>LSTAT</th>   <td>   -3.6281</td> <td>    0.397</td> <td>   -9.133</td> <td> 0.000</td> <td>   -4.409</td> <td>   -2.847</td>\n",
       "</tr>\n",
       "</table>\n",
       "<table class=\"simpletable\">\n",
       "<tr>\n",
       "  <th>Omnibus:</th>       <td>133.052</td> <th>  Durbin-Watson:     </th> <td>   2.114</td> \n",
       "</tr>\n",
       "<tr>\n",
       "  <th>Prob(Omnibus):</th> <td> 0.000</td>  <th>  Jarque-Bera (JB):  </th> <td> 579.817</td> \n",
       "</tr>\n",
       "<tr>\n",
       "  <th>Skew:</th>          <td> 1.379</td>  <th>  Prob(JB):          </th> <td>1.24e-126</td>\n",
       "</tr>\n",
       "<tr>\n",
       "  <th>Kurtosis:</th>      <td> 8.181</td>  <th>  Cond. No.          </th> <td>    9.90</td> \n",
       "</tr>\n",
       "</table><br/><br/>Notes:<br/>[1] Standard Errors assume that the covariance matrix of the errors is correctly specified."
      ],
      "text/plain": [
       "<class 'statsmodels.iolib.summary.Summary'>\n",
       "\"\"\"\n",
       "                            OLS Regression Results                            \n",
       "==============================================================================\n",
       "Dep. Variable:                 target   R-squared:                       0.751\n",
       "Model:                            OLS   Adj. R-squared:                  0.743\n",
       "Method:                 Least Squares   F-statistic:                     90.43\n",
       "Date:                Tue, 04 May 2021   Prob (F-statistic):          6.21e-109\n",
       "Time:                        09:45:19   Log-Likelihood:                -1194.3\n",
       "No. Observations:                 404   AIC:                             2417.\n",
       "Df Residuals:                     390   BIC:                             2473.\n",
       "Df Model:                          13                                         \n",
       "Covariance Type:            nonrobust                                         \n",
       "==============================================================================\n",
       "                 coef    std err          t      P>|t|      [0.025      0.975]\n",
       "------------------------------------------------------------------------------\n",
       "const         22.4853      0.236     95.096      0.000      22.020      22.950\n",
       "CRIM          -0.9715      0.299     -3.250      0.001      -1.559      -0.384\n",
       "ZN             0.7016      0.373      1.882      0.061      -0.031       1.434\n",
       "INDUS          0.2768      0.462      0.599      0.549      -0.631       1.184\n",
       "CHAS           0.7065      0.242      2.914      0.004       0.230       1.183\n",
       "NOX           -1.9914      0.490     -4.061      0.000      -2.956      -1.027\n",
       "RM             3.1157      0.326      9.567      0.000       2.475       3.756\n",
       "AGE           -0.1771      0.410     -0.432      0.666      -0.982       0.628\n",
       "DIS           -3.0458      0.475     -6.408      0.000      -3.980      -2.111\n",
       "RAD            2.2828      0.661      3.454      0.001       0.983       3.582\n",
       "TAX           -1.7926      0.715     -2.508      0.013      -3.198      -0.388\n",
       "PTRATIO       -1.9800      0.311     -6.357      0.000      -2.592      -1.368\n",
       "B              1.1265      0.270      4.166      0.000       0.595       1.658\n",
       "LSTAT         -3.6281      0.397     -9.133      0.000      -4.409      -2.847\n",
       "==============================================================================\n",
       "Omnibus:                      133.052   Durbin-Watson:                   2.114\n",
       "Prob(Omnibus):                  0.000   Jarque-Bera (JB):              579.817\n",
       "Skew:                           1.379   Prob(JB):                    1.24e-126\n",
       "Kurtosis:                       8.181   Cond. No.                         9.90\n",
       "==============================================================================\n",
       "\n",
       "Notes:\n",
       "[1] Standard Errors assume that the covariance matrix of the errors is correctly specified.\n",
       "\"\"\""
      ]
     },
     "execution_count": 16,
     "metadata": {},
     "output_type": "execute_result"
    }
   ],
   "source": [
    "X_train_c = sm.add_constant(X_train)\n",
    "X_test_c = sm.add_constant(X_test)\n",
    "model = sm.OLS(endog= y_train, exog= X_train_c)\n",
    "model1 = model.fit()\n",
    "model1.summary()"
   ]
  },
  {
   "cell_type": "code",
   "execution_count": 17,
   "metadata": {},
   "outputs": [
    {
     "name": "stdout",
     "output_type": "stream",
     "text": [
      "RMSE model1: 4.93\n"
     ]
    }
   ],
   "source": [
    "# Root mean squared error of model1\n",
    "RMSE_model1 = np.sqrt(mean_squared_error(y_true = y_test, y_pred = model1.predict(X_test_c)))\n",
    "print('RMSE model1: {}'.format(np.round(RMSE_model1,2)))"
   ]
  },
  {
   "cell_type": "markdown",
   "metadata": {},
   "source": [
    "Evaluating the p-value of individual predictors, notice that INDUS, AGE and ZN have a larger p-value (p-value > 0.05),  suggesting that changes in the predictors are not associated with changes in the response. i.e., their variation do not help to explain the variation of the target. Another possible explanation to the lack of statistical significance of these features is their association with other predictors. If this is the case, these parameters are not reliable.\n",
    "\n",
    "Multicollinearity can be identified throught the following techniques:\n",
    "1. Correlation coefficients.\n",
    "2. Variance inflation factors (VIF).\n",
    "3. Eigenvalues and eigenvectors analysis."
   ]
  },
  {
   "cell_type": "markdown",
   "metadata": {},
   "source": [
    "## Correlation Matrix"
   ]
  },
  {
   "cell_type": "code",
   "execution_count": 16,
   "metadata": {},
   "outputs": [
    {
     "data": {
      "image/png": "[encoded data removed]",
      "text/plain": [
       "<Figure size 720x576 with 2 Axes>"
      ]
     },
     "metadata": {
      "needs_background": "light"
     },
     "output_type": "display_data"
    }
   ],
   "source": [
    "cor = data.corr()\n",
    "plt.figure(figsize = (10,8))\n",
    "sns.heatmap(data = cor, annot = True)\n",
    "plt.show()"
   ]
  },
  {
   "cell_type": "markdown",
   "metadata": {},
   "source": [
    "The pairwise Pearson Correlation Coefficient might indicate the problem of multicollinearity within a data set. A common rule of thumb is that multicollinearity may be a problem in a data set if r > 0.7 (Dormann et al. 2013). Thus, the correlation matrix reveals that INDUS is correlated with NOX, DIS, TAX. As well as, NOX is correlated with INDUS, DIS, AGE. And AGE is correlated with NOX, DIS.\n",
    "\n",
    "Scatter plots helps to interpret the correlation coefficient with the target."
   ]
  },
  {
   "cell_type": "code",
   "execution_count": 36,
   "metadata": {},
   "outputs": [
    {
     "data": {
      "image/png": "[encoded data removed]",
      "text/plain": [
       "<Figure size 1080x720 with 13 Axes>"
      ]
     },
     "metadata": {
      "needs_background": "light"
     },
     "output_type": "display_data"
    }
   ],
   "source": [
    "# Scatter plot X vs. y\n",
    "plt.figure(figsize=(15,10))\n",
    "for i, name in enumerate(X.columns):\n",
    "    plt.subplot(4, 4, i+1)\n",
    "    plt.scatter(X[name],y)\n",
    "    plt.title(name)\n",
    "plt.tight_layout()\n",
    "plt.show()"
   ]
  },
  {
   "cell_type": "markdown",
   "metadata": {},
   "source": [
    "## Evaluating the multicollinearity"
   ]
  },
  {
   "cell_type": "markdown",
   "metadata": {},
   "source": [
    "### Variance inflation factor"
   ]
  },
  {
   "cell_type": "code",
   "execution_count": 17,
   "metadata": {},
   "outputs": [
    {
     "data": {
      "text/plain": [
       "CRIM       1.713187\n",
       "ZN         2.465631\n",
       "INDUS      3.877855\n",
       "CHAS       1.096674\n",
       "NOX        4.469150\n",
       "RM         1.947809\n",
       "AGE        2.989948\n",
       "DIS        4.168578\n",
       "RAD        7.658316\n",
       "TAX        8.943301\n",
       "PTRATIO    1.851448\n",
       "B          1.325121\n",
       "LSTAT      2.818045\n",
       "dtype: float64"
      ]
     },
     "execution_count": 17,
     "metadata": {},
     "output_type": "execute_result"
    }
   ],
   "source": [
    "# To correct use variance_inflation_factor from statsmodels, the X values matrix must contain the constant column to the\n",
    "# intercept calculation, otherwise VIF will not be reliable. This is because the regression performed to determine VIF uses\n",
    "# the statsmodels OLS algorithm.\n",
    "\n",
    "from statsmodels.stats.outliers_influence import variance_inflation_factor\n",
    "VIF = [variance_inflation_factor(X_train_c.values, i) for i in range(X.shape[1]+1)] # +1 because of the intercept\n",
    "VIF = pd.Series(data = VIF[1:], index = X.columns)\n",
    "VIF"
   ]
  },
  {
   "cell_type": "code",
   "execution_count": 18,
   "metadata": {},
   "outputs": [
    {
     "data": {
      "text/plain": [
       "CRIM       1.792192\n",
       "ZN         2.298758\n",
       "INDUS      3.991596\n",
       "CHAS       1.073995\n",
       "NOX        4.393720\n",
       "RM         1.933744\n",
       "AGE        3.100826\n",
       "DIS        3.955945\n",
       "RAD        7.484496\n",
       "TAX        9.008554\n",
       "PTRATIO    1.799084\n",
       "B          1.348521\n",
       "LSTAT      2.941491\n",
       "dtype: float64"
      ]
     },
     "execution_count": 18,
     "metadata": {},
     "output_type": "execute_result"
    }
   ],
   "source": [
    "# 2nd option: VIF using correlation matrix\n",
    "cor = X.corr()\n",
    "VIF = np.linalg.inv(cor.values)\n",
    "VIF = pd.Series(data = VIF.diagonal(), index = X.columns)\n",
    "VIF"
   ]
  },
  {
   "cell_type": "markdown",
   "metadata": {},
   "source": [
    "None of the features presented severe multicollinearity since VIF < 10. However, it is observed a moderate VIF value for TAX and RAD. Thus, one of these features could be eliminated from the regression model, since they might represent the same information, and the p-value of individual predictors evaluated. If the parameters of the model and the p-values change by eliminating TAX or RAD, there is an indication of the multicollinearity problem."
   ]
  },
  {
   "cell_type": "markdown",
   "metadata": {},
   "source": [
    "### Eigenvectors and eigenvalues"
   ]
  },
  {
   "cell_type": "code",
   "execution_count": 19,
   "metadata": {},
   "outputs": [],
   "source": [
    "# Using the correlation matrix\n",
    "eigenvalues, eigenvectors = np.linalg.eig(cor.values)"
   ]
  },
  {
   "cell_type": "markdown",
   "metadata": {},
   "source": [
    "After extrating the eigenvalues, we look for any value that is close to 0 or is small compared to the others. In this case, 0.063 is the lowest value and its position in eigenvalues is 8. "
   ]
  },
  {
   "cell_type": "code",
   "execution_count": 20,
   "metadata": {},
   "outputs": [
    {
     "data": {
      "text/plain": [
       "array([6.12684883, 1.43327512, 1.24261667, 0.85757511, 0.83481594,\n",
       "       0.65740718, 0.53535609, 0.39609731, 0.06350926, 0.27694333,\n",
       "       0.16930298, 0.18601437, 0.22023782])"
      ]
     },
     "execution_count": 20,
     "metadata": {},
     "output_type": "execute_result"
    }
   ],
   "source": [
    "eigenvalues"
   ]
  },
  {
   "cell_type": "markdown",
   "metadata": {},
   "source": [
    "Accessing the position 8 of the eigenvector and looking for the largest values:"
   ]
  },
  {
   "cell_type": "code",
   "execution_count": 21,
   "metadata": {},
   "outputs": [
    {
     "name": "stdout",
     "output_type": "stream",
     "text": [
      "[-0.72023345 -0.0459523  -0.0455671  -0.04363045 -0.03592171 -0.02443168\n",
      " -0.02339805  0.00446307  0.01829854  0.03855068  0.08091897  0.25107654\n",
      "  0.63348972]\n"
     ]
    }
   ],
   "source": [
    "print(np.sort(eigenvectors[:,8]))"
   ]
  },
  {
   "cell_type": "code",
   "execution_count": 22,
   "metadata": {},
   "outputs": [
    {
     "data": {
      "text/plain": [
       "array([-0.0459523 ,  0.08091897,  0.25107654, -0.03592171, -0.04363045,\n",
       "       -0.0455671 ,  0.03855068,  0.01829854,  0.63348972, -0.72023345,\n",
       "       -0.02339805,  0.00446307, -0.02443168])"
      ]
     },
     "execution_count": 22,
     "metadata": {},
     "output_type": "execute_result"
    }
   ],
   "source": [
    "eigenvectors[:,8]"
   ]
  },
  {
   "cell_type": "markdown",
   "metadata": {},
   "source": [
    "The largest values are in the positions 8 and 9, let's find which features are in this position."
   ]
  },
  {
   "cell_type": "code",
   "execution_count": 18,
   "metadata": {},
   "outputs": [
    {
     "name": "stdout",
     "output_type": "stream",
     "text": [
      "RAD TAX\n"
     ]
    }
   ],
   "source": [
    "features = X.columns\n",
    "print(features[8], features[9])"
   ]
  },
  {
   "cell_type": "markdown",
   "metadata": {},
   "source": [
    "RAD and TAX are the variables responsible for the multicollinearity, a result that is in accordance with the VIF analysis. Now, let's remove TAX and evaluate the parameters of the model."
   ]
  },
  {
   "cell_type": "markdown",
   "metadata": {},
   "source": [
    "## Model 2 - removing TAX"
   ]
  },
  {
   "cell_type": "code",
   "execution_count": 19,
   "metadata": {},
   "outputs": [],
   "source": [
    "X_train1 = X_train_c.drop(columns = ['TAX'])\n",
    "X_test1 = X_test_c.drop(columns = ['TAX'])"
   ]
  },
  {
   "cell_type": "code",
   "execution_count": 20,
   "metadata": {},
   "outputs": [
    {
     "data": {
      "text/html": [
       "<table class=\"simpletable\">\n",
       "<caption>OLS Regression Results</caption>\n",
       "<tr>\n",
       "  <th>Dep. Variable:</th>         <td>target</td>      <th>  R-squared:         </th> <td>   0.747</td> \n",
       "</tr>\n",
       "<tr>\n",
       "  <th>Model:</th>                   <td>OLS</td>       <th>  Adj. R-squared:    </th> <td>   0.739</td> \n",
       "</tr>\n",
       "<tr>\n",
       "  <th>Method:</th>             <td>Least Squares</td>  <th>  F-statistic:       </th> <td>   96.14</td> \n",
       "</tr>\n",
       "<tr>\n",
       "  <th>Date:</th>             <td>Tue, 04 May 2021</td> <th>  Prob (F-statistic):</th> <td>1.36e-108</td>\n",
       "</tr>\n",
       "<tr>\n",
       "  <th>Time:</th>                 <td>09:57:27</td>     <th>  Log-Likelihood:    </th> <td> -1197.6</td> \n",
       "</tr>\n",
       "<tr>\n",
       "  <th>No. Observations:</th>      <td>   404</td>      <th>  AIC:               </th> <td>   2421.</td> \n",
       "</tr>\n",
       "<tr>\n",
       "  <th>Df Residuals:</th>          <td>   391</td>      <th>  BIC:               </th> <td>   2473.</td> \n",
       "</tr>\n",
       "<tr>\n",
       "  <th>Df Model:</th>              <td>    12</td>      <th>                     </th>     <td> </td>    \n",
       "</tr>\n",
       "<tr>\n",
       "  <th>Covariance Type:</th>      <td>nonrobust</td>    <th>                     </th>     <td> </td>    \n",
       "</tr>\n",
       "</table>\n",
       "<table class=\"simpletable\">\n",
       "<tr>\n",
       "     <td></td>        <th>coef</th>     <th>std err</th>      <th>t</th>      <th>P>|t|</th>  <th>[0.025</th>    <th>0.975]</th>  \n",
       "</tr>\n",
       "<tr>\n",
       "  <th>const</th>   <td>   22.4880</td> <td>    0.238</td> <td>   94.471</td> <td> 0.000</td> <td>   22.020</td> <td>   22.956</td>\n",
       "</tr>\n",
       "<tr>\n",
       "  <th>CRIM</th>    <td>   -0.9639</td> <td>    0.301</td> <td>   -3.203</td> <td> 0.001</td> <td>   -1.555</td> <td>   -0.372</td>\n",
       "</tr>\n",
       "<tr>\n",
       "  <th>ZN</th>      <td>    0.4396</td> <td>    0.360</td> <td>    1.221</td> <td> 0.223</td> <td>   -0.269</td> <td>    1.148</td>\n",
       "</tr>\n",
       "<tr>\n",
       "  <th>INDUS</th>   <td>   -0.1765</td> <td>    0.428</td> <td>   -0.413</td> <td> 0.680</td> <td>   -1.017</td> <td>    0.664</td>\n",
       "</tr>\n",
       "<tr>\n",
       "  <th>CHAS</th>    <td>    0.7699</td> <td>    0.243</td> <td>    3.171</td> <td> 0.002</td> <td>    0.293</td> <td>    1.247</td>\n",
       "</tr>\n",
       "<tr>\n",
       "  <th>NOX</th>     <td>   -2.1122</td> <td>    0.491</td> <td>   -4.299</td> <td> 0.000</td> <td>   -3.078</td> <td>   -1.146</td>\n",
       "</tr>\n",
       "<tr>\n",
       "  <th>RM</th>      <td>    3.1828</td> <td>    0.327</td> <td>    9.740</td> <td> 0.000</td> <td>    2.540</td> <td>    3.825</td>\n",
       "</tr>\n",
       "<tr>\n",
       "  <th>AGE</th>     <td>   -0.1728</td> <td>    0.412</td> <td>   -0.419</td> <td> 0.675</td> <td>   -0.984</td> <td>    0.638</td>\n",
       "</tr>\n",
       "<tr>\n",
       "  <th>DIS</th>     <td>   -2.9943</td> <td>    0.478</td> <td>   -6.263</td> <td> 0.000</td> <td>   -3.934</td> <td>   -2.054</td>\n",
       "</tr>\n",
       "<tr>\n",
       "  <th>RAD</th>     <td>    0.9694</td> <td>    0.406</td> <td>    2.387</td> <td> 0.017</td> <td>    0.171</td> <td>    1.768</td>\n",
       "</tr>\n",
       "<tr>\n",
       "  <th>PTRATIO</th> <td>   -2.0421</td> <td>    0.313</td> <td>   -6.534</td> <td> 0.000</td> <td>   -2.657</td> <td>   -1.428</td>\n",
       "</tr>\n",
       "<tr>\n",
       "  <th>B</th>       <td>    1.1506</td> <td>    0.272</td> <td>    4.229</td> <td> 0.000</td> <td>    0.616</td> <td>    1.686</td>\n",
       "</tr>\n",
       "<tr>\n",
       "  <th>LSTAT</th>   <td>   -3.6015</td> <td>    0.400</td> <td>   -9.008</td> <td> 0.000</td> <td>   -4.387</td> <td>   -2.815</td>\n",
       "</tr>\n",
       "</table>\n",
       "<table class=\"simpletable\">\n",
       "<tr>\n",
       "  <th>Omnibus:</th>       <td>127.817</td> <th>  Durbin-Watson:     </th> <td>   2.125</td> \n",
       "</tr>\n",
       "<tr>\n",
       "  <th>Prob(Omnibus):</th> <td> 0.000</td>  <th>  Jarque-Bera (JB):  </th> <td> 541.969</td> \n",
       "</tr>\n",
       "<tr>\n",
       "  <th>Skew:</th>          <td> 1.328</td>  <th>  Prob(JB):          </th> <td>2.06e-118</td>\n",
       "</tr>\n",
       "<tr>\n",
       "  <th>Kurtosis:</th>      <td> 8.014</td>  <th>  Cond. No.          </th> <td>    5.80</td> \n",
       "</tr>\n",
       "</table><br/><br/>Notes:<br/>[1] Standard Errors assume that the covariance matrix of the errors is correctly specified."
      ],
      "text/plain": [
       "<class 'statsmodels.iolib.summary.Summary'>\n",
       "\"\"\"\n",
       "                            OLS Regression Results                            \n",
       "==============================================================================\n",
       "Dep. Variable:                 target   R-squared:                       0.747\n",
       "Model:                            OLS   Adj. R-squared:                  0.739\n",
       "Method:                 Least Squares   F-statistic:                     96.14\n",
       "Date:                Tue, 04 May 2021   Prob (F-statistic):          1.36e-108\n",
       "Time:                        09:57:27   Log-Likelihood:                -1197.6\n",
       "No. Observations:                 404   AIC:                             2421.\n",
       "Df Residuals:                     391   BIC:                             2473.\n",
       "Df Model:                          12                                         \n",
       "Covariance Type:            nonrobust                                         \n",
       "==============================================================================\n",
       "                 coef    std err          t      P>|t|      [0.025      0.975]\n",
       "------------------------------------------------------------------------------\n",
       "const         22.4880      0.238     94.471      0.000      22.020      22.956\n",
       "CRIM          -0.9639      0.301     -3.203      0.001      -1.555      -0.372\n",
       "ZN             0.4396      0.360      1.221      0.223      -0.269       1.148\n",
       "INDUS         -0.1765      0.428     -0.413      0.680      -1.017       0.664\n",
       "CHAS           0.7699      0.243      3.171      0.002       0.293       1.247\n",
       "NOX           -2.1122      0.491     -4.299      0.000      -3.078      -1.146\n",
       "RM             3.1828      0.327      9.740      0.000       2.540       3.825\n",
       "AGE           -0.1728      0.412     -0.419      0.675      -0.984       0.638\n",
       "DIS           -2.9943      0.478     -6.263      0.000      -3.934      -2.054\n",
       "RAD            0.9694      0.406      2.387      0.017       0.171       1.768\n",
       "PTRATIO       -2.0421      0.313     -6.534      0.000      -2.657      -1.428\n",
       "B              1.1506      0.272      4.229      0.000       0.616       1.686\n",
       "LSTAT         -3.6015      0.400     -9.008      0.000      -4.387      -2.815\n",
       "==============================================================================\n",
       "Omnibus:                      127.817   Durbin-Watson:                   2.125\n",
       "Prob(Omnibus):                  0.000   Jarque-Bera (JB):              541.969\n",
       "Skew:                           1.328   Prob(JB):                    2.06e-118\n",
       "Kurtosis:                       8.014   Cond. No.                         5.80\n",
       "==============================================================================\n",
       "\n",
       "Notes:\n",
       "[1] Standard Errors assume that the covariance matrix of the errors is correctly specified.\n",
       "\"\"\""
      ]
     },
     "execution_count": 20,
     "metadata": {},
     "output_type": "execute_result"
    }
   ],
   "source": [
    "regressor = sm.OLS(y_train, X_train1)\n",
    "model2 = regressor.fit()\n",
    "model2.summary()"
   ]
  },
  {
   "cell_type": "code",
   "execution_count": 21,
   "metadata": {},
   "outputs": [
    {
     "data": {
      "text/html": [
       "<div>\n",
       "<style scoped>\n",
       "    .dataframe tbody tr th:only-of-type {\n",
       "        vertical-align: middle;\n",
       "    }\n",
       "\n",
       "    .dataframe tbody tr th {\n",
       "        vertical-align: top;\n",
       "    }\n",
       "\n",
       "    .dataframe thead th {\n",
       "        text-align: right;\n",
       "    }\n",
       "</style>\n",
       "<table border=\"1\" class=\"dataframe\">\n",
       "  <thead>\n",
       "    <tr style=\"text-align: right;\">\n",
       "      <th></th>\n",
       "      <th>Model1</th>\n",
       "      <th>Model2</th>\n",
       "    </tr>\n",
       "  </thead>\n",
       "  <tbody>\n",
       "    <tr>\n",
       "      <th>const</th>\n",
       "      <td>22.485268</td>\n",
       "      <td>22.487990</td>\n",
       "    </tr>\n",
       "    <tr>\n",
       "      <th>CRIM</th>\n",
       "      <td>-0.971494</td>\n",
       "      <td>-0.963887</td>\n",
       "    </tr>\n",
       "    <tr>\n",
       "      <th>ZN</th>\n",
       "      <td>0.701556</td>\n",
       "      <td>0.439625</td>\n",
       "    </tr>\n",
       "    <tr>\n",
       "      <th>INDUS</th>\n",
       "      <td>0.276752</td>\n",
       "      <td>-0.176548</td>\n",
       "    </tr>\n",
       "    <tr>\n",
       "      <th>CHAS</th>\n",
       "      <td>0.706532</td>\n",
       "      <td>0.769882</td>\n",
       "    </tr>\n",
       "    <tr>\n",
       "      <th>NOX</th>\n",
       "      <td>-1.991430</td>\n",
       "      <td>-2.112249</td>\n",
       "    </tr>\n",
       "    <tr>\n",
       "      <th>RM</th>\n",
       "      <td>3.115718</td>\n",
       "      <td>3.182785</td>\n",
       "    </tr>\n",
       "    <tr>\n",
       "      <th>AGE</th>\n",
       "      <td>-0.177060</td>\n",
       "      <td>-0.172804</td>\n",
       "    </tr>\n",
       "    <tr>\n",
       "      <th>DIS</th>\n",
       "      <td>-3.045771</td>\n",
       "      <td>-2.994344</td>\n",
       "    </tr>\n",
       "    <tr>\n",
       "      <th>RAD</th>\n",
       "      <td>2.282785</td>\n",
       "      <td>0.969440</td>\n",
       "    </tr>\n",
       "    <tr>\n",
       "      <th>TAX</th>\n",
       "      <td>-1.792605</td>\n",
       "      <td>NaN</td>\n",
       "    </tr>\n",
       "    <tr>\n",
       "      <th>PTRATIO</th>\n",
       "      <td>-1.979954</td>\n",
       "      <td>-2.042057</td>\n",
       "    </tr>\n",
       "    <tr>\n",
       "      <th>B</th>\n",
       "      <td>1.126499</td>\n",
       "      <td>1.150609</td>\n",
       "    </tr>\n",
       "    <tr>\n",
       "      <th>LSTAT</th>\n",
       "      <td>-3.628149</td>\n",
       "      <td>-3.601457</td>\n",
       "    </tr>\n",
       "  </tbody>\n",
       "</table>\n",
       "</div>"
      ],
      "text/plain": [
       "            Model1     Model2\n",
       "const    22.485268  22.487990\n",
       "CRIM     -0.971494  -0.963887\n",
       "ZN        0.701556   0.439625\n",
       "INDUS     0.276752  -0.176548\n",
       "CHAS      0.706532   0.769882\n",
       "NOX      -1.991430  -2.112249\n",
       "RM        3.115718   3.182785\n",
       "AGE      -0.177060  -0.172804\n",
       "DIS      -3.045771  -2.994344\n",
       "RAD       2.282785   0.969440\n",
       "TAX      -1.792605        NaN\n",
       "PTRATIO  -1.979954  -2.042057\n",
       "B         1.126499   1.150609\n",
       "LSTAT    -3.628149  -3.601457"
      ]
     },
     "execution_count": 21,
     "metadata": {},
     "output_type": "execute_result"
    }
   ],
   "source": [
    "frame1 = pd.DataFrame(model1.params, index = model1.params.index, columns = ['Model1'])\n",
    "frame2 = pd.DataFrame(model2.params, index = model2.params.index, columns = ['Model2'])\n",
    "coefs = pd.concat([frame1, frame2], axis = 1, join = 'outer')\n",
    "coefs"
   ]
  },
  {
   "cell_type": "code",
   "execution_count": 22,
   "metadata": {},
   "outputs": [
    {
     "data": {
      "text/html": [
       "<div>\n",
       "<style scoped>\n",
       "    .dataframe tbody tr th:only-of-type {\n",
       "        vertical-align: middle;\n",
       "    }\n",
       "\n",
       "    .dataframe tbody tr th {\n",
       "        vertical-align: top;\n",
       "    }\n",
       "\n",
       "    .dataframe thead th {\n",
       "        text-align: right;\n",
       "    }\n",
       "</style>\n",
       "<table border=\"1\" class=\"dataframe\">\n",
       "  <thead>\n",
       "    <tr style=\"text-align: right;\">\n",
       "      <th></th>\n",
       "      <th>Model1</th>\n",
       "      <th>Model2</th>\n",
       "    </tr>\n",
       "  </thead>\n",
       "  <tbody>\n",
       "    <tr>\n",
       "      <th>const</th>\n",
       "      <td>0.000</td>\n",
       "      <td>0.000</td>\n",
       "    </tr>\n",
       "    <tr>\n",
       "      <th>CRIM</th>\n",
       "      <td>0.001</td>\n",
       "      <td>0.001</td>\n",
       "    </tr>\n",
       "    <tr>\n",
       "      <th>ZN</th>\n",
       "      <td>0.061</td>\n",
       "      <td>0.223</td>\n",
       "    </tr>\n",
       "    <tr>\n",
       "      <th>INDUS</th>\n",
       "      <td>0.549</td>\n",
       "      <td>0.680</td>\n",
       "    </tr>\n",
       "    <tr>\n",
       "      <th>CHAS</th>\n",
       "      <td>0.004</td>\n",
       "      <td>0.002</td>\n",
       "    </tr>\n",
       "    <tr>\n",
       "      <th>NOX</th>\n",
       "      <td>0.000</td>\n",
       "      <td>0.000</td>\n",
       "    </tr>\n",
       "    <tr>\n",
       "      <th>RM</th>\n",
       "      <td>0.000</td>\n",
       "      <td>0.000</td>\n",
       "    </tr>\n",
       "    <tr>\n",
       "      <th>AGE</th>\n",
       "      <td>0.666</td>\n",
       "      <td>0.675</td>\n",
       "    </tr>\n",
       "    <tr>\n",
       "      <th>DIS</th>\n",
       "      <td>0.000</td>\n",
       "      <td>0.000</td>\n",
       "    </tr>\n",
       "    <tr>\n",
       "      <th>RAD</th>\n",
       "      <td>0.001</td>\n",
       "      <td>0.017</td>\n",
       "    </tr>\n",
       "    <tr>\n",
       "      <th>TAX</th>\n",
       "      <td>0.013</td>\n",
       "      <td>NaN</td>\n",
       "    </tr>\n",
       "    <tr>\n",
       "      <th>PTRATIO</th>\n",
       "      <td>0.000</td>\n",
       "      <td>0.000</td>\n",
       "    </tr>\n",
       "    <tr>\n",
       "      <th>B</th>\n",
       "      <td>0.000</td>\n",
       "      <td>0.000</td>\n",
       "    </tr>\n",
       "    <tr>\n",
       "      <th>LSTAT</th>\n",
       "      <td>0.000</td>\n",
       "      <td>0.000</td>\n",
       "    </tr>\n",
       "  </tbody>\n",
       "</table>\n",
       "</div>"
      ],
      "text/plain": [
       "         Model1  Model2\n",
       "const     0.000   0.000\n",
       "CRIM      0.001   0.001\n",
       "ZN        0.061   0.223\n",
       "INDUS     0.549   0.680\n",
       "CHAS      0.004   0.002\n",
       "NOX       0.000   0.000\n",
       "RM        0.000   0.000\n",
       "AGE       0.666   0.675\n",
       "DIS       0.000   0.000\n",
       "RAD       0.001   0.017\n",
       "TAX       0.013     NaN\n",
       "PTRATIO   0.000   0.000\n",
       "B         0.000   0.000\n",
       "LSTAT     0.000   0.000"
      ]
     },
     "execution_count": 22,
     "metadata": {},
     "output_type": "execute_result"
    }
   ],
   "source": [
    "p_values = pd.concat([pd.DataFrame(np.round(model1.pvalues,3), index = model1.pvalues.index, columns = ['Model1']),\n",
    "                      pd.DataFrame(np.round(model2.pvalues,3), index = model2.pvalues.index, columns = ['Model2'])],\n",
    "                     axis = 1, join = 'outer')\n",
    "p_values"
   ]
  },
  {
   "cell_type": "markdown",
   "metadata": {},
   "source": [
    "Notice how the regression parameters of INDUS, RAD and ZN changed by removing TAX from the model. INDUS even changed the sign of the association from negative to positive. Moreover, p-value of ZN increased considerably strengthening the evidence for the lack of statistical significance to predict the target. This example illustrates the impact of multicollinearity in the interpretability of the model."
   ]
  },
  {
   "cell_type": "code",
   "execution_count": 23,
   "metadata": {},
   "outputs": [
    {
     "name": "stdout",
     "output_type": "stream",
     "text": [
      "RMSE model2: 5.04\n"
     ]
    }
   ],
   "source": [
    "# Removing TAX did not effect the RMSE considerably.\n",
    "RMSE_model2 = np.sqrt(mean_squared_error(y_true = y_test, y_pred = model2.predict(X_test1)))\n",
    "print('RMSE model2: {}'.format(np.round(RMSE_model2,2)))"
   ]
  },
  {
   "cell_type": "markdown",
   "metadata": {},
   "source": [
    "## Model 3 - Regression removing ZN, INDUS and AGE\n",
    "\n",
    "These features are not statistical significant to predict the target (p-values > 0.05)."
   ]
  },
  {
   "cell_type": "code",
   "execution_count": 24,
   "metadata": {
    "scrolled": false
   },
   "outputs": [
    {
     "data": {
      "text/html": [
       "<table class=\"simpletable\">\n",
       "<caption>OLS Regression Results</caption>\n",
       "<tr>\n",
       "  <th>Dep. Variable:</th>         <td>target</td>      <th>  R-squared:         </th> <td>   0.746</td> \n",
       "</tr>\n",
       "<tr>\n",
       "  <th>Model:</th>                   <td>OLS</td>       <th>  Adj. R-squared:    </th> <td>   0.740</td> \n",
       "</tr>\n",
       "<tr>\n",
       "  <th>Method:</th>             <td>Least Squares</td>  <th>  F-statistic:       </th> <td>   128.3</td> \n",
       "</tr>\n",
       "<tr>\n",
       "  <th>Date:</th>             <td>Tue, 04 May 2021</td> <th>  Prob (F-statistic):</th> <td>2.70e-111</td>\n",
       "</tr>\n",
       "<tr>\n",
       "  <th>Time:</th>                 <td>10:05:34</td>     <th>  Log-Likelihood:    </th> <td> -1198.6</td> \n",
       "</tr>\n",
       "<tr>\n",
       "  <th>No. Observations:</th>      <td>   404</td>      <th>  AIC:               </th> <td>   2417.</td> \n",
       "</tr>\n",
       "<tr>\n",
       "  <th>Df Residuals:</th>          <td>   394</td>      <th>  BIC:               </th> <td>   2457.</td> \n",
       "</tr>\n",
       "<tr>\n",
       "  <th>Df Model:</th>              <td>     9</td>      <th>                     </th>     <td> </td>    \n",
       "</tr>\n",
       "<tr>\n",
       "  <th>Covariance Type:</th>      <td>nonrobust</td>    <th>                     </th>     <td> </td>    \n",
       "</tr>\n",
       "</table>\n",
       "<table class=\"simpletable\">\n",
       "<tr>\n",
       "     <td></td>        <th>coef</th>     <th>std err</th>      <th>t</th>      <th>P>|t|</th>  <th>[0.025</th>    <th>0.975]</th>  \n",
       "</tr>\n",
       "<tr>\n",
       "  <th>const</th>   <td>   22.4843</td> <td>    0.238</td> <td>   94.610</td> <td> 0.000</td> <td>   22.017</td> <td>   22.952</td>\n",
       "</tr>\n",
       "<tr>\n",
       "  <th>CRIM</th>    <td>   -0.9339</td> <td>    0.299</td> <td>   -3.120</td> <td> 0.002</td> <td>   -1.522</td> <td>   -0.345</td>\n",
       "</tr>\n",
       "<tr>\n",
       "  <th>CHAS</th>    <td>    0.7621</td> <td>    0.242</td> <td>    3.152</td> <td> 0.002</td> <td>    0.287</td> <td>    1.238</td>\n",
       "</tr>\n",
       "<tr>\n",
       "  <th>NOX</th>     <td>   -2.2790</td> <td>    0.444</td> <td>   -5.134</td> <td> 0.000</td> <td>   -3.152</td> <td>   -1.406</td>\n",
       "</tr>\n",
       "<tr>\n",
       "  <th>RM</th>      <td>    3.2131</td> <td>    0.313</td> <td>   10.267</td> <td> 0.000</td> <td>    2.598</td> <td>    3.828</td>\n",
       "</tr>\n",
       "<tr>\n",
       "  <th>DIS</th>     <td>   -2.5994</td> <td>    0.379</td> <td>   -6.862</td> <td> 0.000</td> <td>   -3.344</td> <td>   -1.855</td>\n",
       "</tr>\n",
       "<tr>\n",
       "  <th>RAD</th>     <td>    1.0399</td> <td>    0.396</td> <td>    2.628</td> <td> 0.009</td> <td>    0.262</td> <td>    1.818</td>\n",
       "</tr>\n",
       "<tr>\n",
       "  <th>PTRATIO</th> <td>   -2.2117</td> <td>    0.288</td> <td>   -7.684</td> <td> 0.000</td> <td>   -2.778</td> <td>   -1.646</td>\n",
       "</tr>\n",
       "<tr>\n",
       "  <th>B</th>       <td>    1.1529</td> <td>    0.271</td> <td>    4.258</td> <td> 0.000</td> <td>    0.621</td> <td>    1.685</td>\n",
       "</tr>\n",
       "<tr>\n",
       "  <th>LSTAT</th>   <td>   -3.6460</td> <td>    0.380</td> <td>   -9.595</td> <td> 0.000</td> <td>   -4.393</td> <td>   -2.899</td>\n",
       "</tr>\n",
       "</table>\n",
       "<table class=\"simpletable\">\n",
       "<tr>\n",
       "  <th>Omnibus:</th>       <td>126.823</td> <th>  Durbin-Watson:     </th> <td>   2.141</td> \n",
       "</tr>\n",
       "<tr>\n",
       "  <th>Prob(Omnibus):</th> <td> 0.000</td>  <th>  Jarque-Bera (JB):  </th> <td> 534.490</td> \n",
       "</tr>\n",
       "<tr>\n",
       "  <th>Skew:</th>          <td> 1.319</td>  <th>  Prob(JB):          </th> <td>8.65e-117</td>\n",
       "</tr>\n",
       "<tr>\n",
       "  <th>Kurtosis:</th>      <td> 7.979</td>  <th>  Cond. No.          </th> <td>    4.74</td> \n",
       "</tr>\n",
       "</table><br/><br/>Notes:<br/>[1] Standard Errors assume that the covariance matrix of the errors is correctly specified."
      ],
      "text/plain": [
       "<class 'statsmodels.iolib.summary.Summary'>\n",
       "\"\"\"\n",
       "                            OLS Regression Results                            \n",
       "==============================================================================\n",
       "Dep. Variable:                 target   R-squared:                       0.746\n",
       "Model:                            OLS   Adj. R-squared:                  0.740\n",
       "Method:                 Least Squares   F-statistic:                     128.3\n",
       "Date:                Tue, 04 May 2021   Prob (F-statistic):          2.70e-111\n",
       "Time:                        10:05:34   Log-Likelihood:                -1198.6\n",
       "No. Observations:                 404   AIC:                             2417.\n",
       "Df Residuals:                     394   BIC:                             2457.\n",
       "Df Model:                           9                                         \n",
       "Covariance Type:            nonrobust                                         \n",
       "==============================================================================\n",
       "                 coef    std err          t      P>|t|      [0.025      0.975]\n",
       "------------------------------------------------------------------------------\n",
       "const         22.4843      0.238     94.610      0.000      22.017      22.952\n",
       "CRIM          -0.9339      0.299     -3.120      0.002      -1.522      -0.345\n",
       "CHAS           0.7621      0.242      3.152      0.002       0.287       1.238\n",
       "NOX           -2.2790      0.444     -5.134      0.000      -3.152      -1.406\n",
       "RM             3.2131      0.313     10.267      0.000       2.598       3.828\n",
       "DIS           -2.5994      0.379     -6.862      0.000      -3.344      -1.855\n",
       "RAD            1.0399      0.396      2.628      0.009       0.262       1.818\n",
       "PTRATIO       -2.2117      0.288     -7.684      0.000      -2.778      -1.646\n",
       "B              1.1529      0.271      4.258      0.000       0.621       1.685\n",
       "LSTAT         -3.6460      0.380     -9.595      0.000      -4.393      -2.899\n",
       "==============================================================================\n",
       "Omnibus:                      126.823   Durbin-Watson:                   2.141\n",
       "Prob(Omnibus):                  0.000   Jarque-Bera (JB):              534.490\n",
       "Skew:                           1.319   Prob(JB):                    8.65e-117\n",
       "Kurtosis:                       7.979   Cond. No.                         4.74\n",
       "==============================================================================\n",
       "\n",
       "Notes:\n",
       "[1] Standard Errors assume that the covariance matrix of the errors is correctly specified.\n",
       "\"\"\""
      ]
     },
     "execution_count": 24,
     "metadata": {},
     "output_type": "execute_result"
    }
   ],
   "source": [
    "X_train2 = X_train_c.drop(columns = ['ZN', 'INDUS', 'AGE', 'TAX'])\n",
    "X_test2 = X_test_c.drop(columns = ['ZN', 'INDUS', 'AGE', 'TAX'])\n",
    "\n",
    "regressor1 = sm.OLS(y_train, X_train2)\n",
    "model3 = regressor1.fit()\n",
    "model3.summary()"
   ]
  },
  {
   "cell_type": "code",
   "execution_count": 26,
   "metadata": {},
   "outputs": [
    {
     "data": {
      "text/html": [
       "<div>\n",
       "<style scoped>\n",
       "    .dataframe tbody tr th:only-of-type {\n",
       "        vertical-align: middle;\n",
       "    }\n",
       "\n",
       "    .dataframe tbody tr th {\n",
       "        vertical-align: top;\n",
       "    }\n",
       "\n",
       "    .dataframe thead th {\n",
       "        text-align: right;\n",
       "    }\n",
       "</style>\n",
       "<table border=\"1\" class=\"dataframe\">\n",
       "  <thead>\n",
       "    <tr style=\"text-align: right;\">\n",
       "      <th></th>\n",
       "      <th>Model1</th>\n",
       "      <th>Model2</th>\n",
       "      <th>Model3</th>\n",
       "    </tr>\n",
       "  </thead>\n",
       "  <tbody>\n",
       "    <tr>\n",
       "      <th>const</th>\n",
       "      <td>22.485268</td>\n",
       "      <td>22.487990</td>\n",
       "      <td>22.484338</td>\n",
       "    </tr>\n",
       "    <tr>\n",
       "      <th>CRIM</th>\n",
       "      <td>-0.971494</td>\n",
       "      <td>-0.963887</td>\n",
       "      <td>-0.933879</td>\n",
       "    </tr>\n",
       "    <tr>\n",
       "      <th>ZN</th>\n",
       "      <td>0.701556</td>\n",
       "      <td>0.439625</td>\n",
       "      <td>NaN</td>\n",
       "    </tr>\n",
       "    <tr>\n",
       "      <th>INDUS</th>\n",
       "      <td>0.276752</td>\n",
       "      <td>-0.176548</td>\n",
       "      <td>NaN</td>\n",
       "    </tr>\n",
       "    <tr>\n",
       "      <th>CHAS</th>\n",
       "      <td>0.706532</td>\n",
       "      <td>0.769882</td>\n",
       "      <td>0.762135</td>\n",
       "    </tr>\n",
       "    <tr>\n",
       "      <th>NOX</th>\n",
       "      <td>-1.991430</td>\n",
       "      <td>-2.112249</td>\n",
       "      <td>-2.278961</td>\n",
       "    </tr>\n",
       "    <tr>\n",
       "      <th>RM</th>\n",
       "      <td>3.115718</td>\n",
       "      <td>3.182785</td>\n",
       "      <td>3.213078</td>\n",
       "    </tr>\n",
       "    <tr>\n",
       "      <th>AGE</th>\n",
       "      <td>-0.177060</td>\n",
       "      <td>-0.172804</td>\n",
       "      <td>NaN</td>\n",
       "    </tr>\n",
       "    <tr>\n",
       "      <th>DIS</th>\n",
       "      <td>-3.045771</td>\n",
       "      <td>-2.994344</td>\n",
       "      <td>-2.599441</td>\n",
       "    </tr>\n",
       "    <tr>\n",
       "      <th>RAD</th>\n",
       "      <td>2.282785</td>\n",
       "      <td>0.969440</td>\n",
       "      <td>1.039937</td>\n",
       "    </tr>\n",
       "    <tr>\n",
       "      <th>TAX</th>\n",
       "      <td>-1.792605</td>\n",
       "      <td>NaN</td>\n",
       "      <td>NaN</td>\n",
       "    </tr>\n",
       "    <tr>\n",
       "      <th>PTRATIO</th>\n",
       "      <td>-1.979954</td>\n",
       "      <td>-2.042057</td>\n",
       "      <td>-2.211658</td>\n",
       "    </tr>\n",
       "    <tr>\n",
       "      <th>B</th>\n",
       "      <td>1.126499</td>\n",
       "      <td>1.150609</td>\n",
       "      <td>1.152885</td>\n",
       "    </tr>\n",
       "    <tr>\n",
       "      <th>LSTAT</th>\n",
       "      <td>-3.628149</td>\n",
       "      <td>-3.601457</td>\n",
       "      <td>-3.645969</td>\n",
       "    </tr>\n",
       "  </tbody>\n",
       "</table>\n",
       "</div>"
      ],
      "text/plain": [
       "            Model1     Model2     Model3\n",
       "const    22.485268  22.487990  22.484338\n",
       "CRIM     -0.971494  -0.963887  -0.933879\n",
       "ZN        0.701556   0.439625        NaN\n",
       "INDUS     0.276752  -0.176548        NaN\n",
       "CHAS      0.706532   0.769882   0.762135\n",
       "NOX      -1.991430  -2.112249  -2.278961\n",
       "RM        3.115718   3.182785   3.213078\n",
       "AGE      -0.177060  -0.172804        NaN\n",
       "DIS      -3.045771  -2.994344  -2.599441\n",
       "RAD       2.282785   0.969440   1.039937\n",
       "TAX      -1.792605        NaN        NaN\n",
       "PTRATIO  -1.979954  -2.042057  -2.211658\n",
       "B         1.126499   1.150609   1.152885\n",
       "LSTAT    -3.628149  -3.601457  -3.645969"
      ]
     },
     "execution_count": 26,
     "metadata": {},
     "output_type": "execute_result"
    }
   ],
   "source": [
    "frame3 = pd.DataFrame(model3.params, index = model3.params.index, columns = ['Model3'])\n",
    "coefs = pd.concat([coefs, frame3], axis = 1, join = 'outer')\n",
    "coefs"
   ]
  },
  {
   "cell_type": "markdown",
   "metadata": {},
   "source": [
    "Now, the model is only composed by the features with statistical significance to predict the target. Moreover, based on the VIF analysis below, a model with these features is free of multicollinearity."
   ]
  },
  {
   "cell_type": "code",
   "execution_count": 33,
   "metadata": {},
   "outputs": [
    {
     "data": {
      "text/plain": [
       "CRIM       1.699502\n",
       "CHAS       1.078715\n",
       "NOX        3.621973\n",
       "RM         1.779177\n",
       "DIS        2.619200\n",
       "RAD        2.715091\n",
       "PTRATIO    1.564327\n",
       "B          1.313838\n",
       "LSTAT      2.550872\n",
       "dtype: float64"
      ]
     },
     "execution_count": 33,
     "metadata": {},
     "output_type": "execute_result"
    }
   ],
   "source": [
    "cor = X_train2.drop(columns='const').corr()\n",
    "VIF = np.linalg.inv(cor.values)\n",
    "VIF = pd.Series(data = VIF.diagonal(), index = X_train2.columns[1:])\n",
    "VIF"
   ]
  },
  {
   "cell_type": "code",
   "execution_count": 28,
   "metadata": {},
   "outputs": [
    {
     "name": "stdout",
     "output_type": "stream",
     "text": [
      "RMSE model3: 5.14\n"
     ]
    }
   ],
   "source": [
    "RMSE_model3 = np.sqrt(mean_squared_error(y_true = y_test, y_pred = model3.predict(X_test2)))\n",
    "print('RMSE model3: {}'.format(np.round(RMSE_model3,2)))"
   ]
  },
  {
   "cell_type": "markdown",
   "metadata": {},
   "source": [
    "## Identifying the most important features in regression models\n",
    "\n",
    "The steps to investigate the multicollinearity presented above get tedious when the number of features increases. In this case, a method of feature selection can be used to select the best features to predict the target, evaluate the VIF of the selected features and train the model. Regularization is another method that can be used to decrease the impact of irrelevant features. Another interesting method, that I will show here, is to estimate the impact of each feature in the coefficient of determination (R^2). "
   ]
  },
  {
   "cell_type": "markdown",
   "metadata": {},
   "source": [
    "#### Estimate the impact of each feature in R-squared.\n",
    "\n",
    "A model will be trained using each of the features."
   ]
  },
  {
   "cell_type": "code",
   "execution_count": 51,
   "metadata": {},
   "outputs": [
    {
     "name": "stdout",
     "output_type": "stream",
     "text": [
      "RM  0.058\n",
      "LSTAT  0.053\n",
      "DIS  0.026\n",
      "PTRATIO  0.026\n",
      "B  0.011\n",
      "NOX  0.011\n",
      "RAD  0.008\n",
      "CRIM  0.007\n",
      "CHAS  0.005\n",
      "TAX  0.004\n",
      "ZN  0.002\n",
      "INDUS  0.000\n",
      "AGE  0.000\n"
     ]
    }
   ],
   "source": [
    "linmodel = LinearRegression()\n",
    "\n",
    "def r_squared(X, y):\n",
    "    return r2_score(y_true = y, y_pred = linmodel.fit(X,y).predict(X))\n",
    "\n",
    "# Generate the impact of each variable\n",
    "r2_impact = list()\n",
    "\n",
    "for i in range(X_train.shape[1]):\n",
    "    features = [j for j in range(X_train.shape[1]) if j != i]\n",
    "    r2_impact.append(((r_squared(X_train,y_train) - r_squared(X_train.values[:,features], y_train)), X_train.columns[i]))\n",
    "\n",
    "for i, name in sorted(r2_impact, reverse= True):\n",
    "    print('%s %6.3f' %  (name, i))"
   ]
  },
  {
   "cell_type": "markdown",
   "metadata": {},
   "source": [
    "The last 4 features are TAX, responsable for the multicollinearity, and ZN, INDUS and AGE are the ones that were statistically irrelevant to predict the target. See how the analysis made so far complement each other, that is why it is important to explore and investigate the data as much as possible in order to make decisions supported by evidences.  "
   ]
  },
  {
   "cell_type": "markdown",
   "metadata": {},
   "source": [
    "## Interpreting the model parameters\n",
    "\n",
    "Standardized parameters can not be interpreted as the mean variation in y as a result of 1 unit change in Xi. Standardization must be removed in order to interpret the model parameters as usual."
   ]
  },
  {
   "cell_type": "code",
   "execution_count": 58,
   "metadata": {},
   "outputs": [
    {
     "data": {
      "text/plain": [
       "RM          4.577540\n",
       "CHAS        3.003570\n",
       "RAD         0.119552\n",
       "B           0.012641\n",
       "CRIM       -0.108679\n",
       "LSTAT      -0.511069\n",
       "PTRATIO    -1.022588\n",
       "DIS        -1.235694\n",
       "NOX       -19.686415\n",
       "dtype: float64"
      ]
     },
     "execution_count": 58,
     "metadata": {},
     "output_type": "execute_result"
    }
   ],
   "source": [
    "# Removing standardization from the parameters\n",
    "std = pd.Series(scaler.scale_, index = model1.params[1:].index)\n",
    "std = std.filter(items = model3.params[1:].index)\n",
    "parameters = model3.params[1:] / std\n",
    "parameters.sort_values(ascending=False)"
   ]
  },
  {
   "cell_type": "code",
   "execution_count": 64,
   "metadata": {},
   "outputs": [
    {
     "name": "stdout",
     "output_type": "stream",
     "text": [
      "const 29.199\n"
     ]
    }
   ],
   "source": [
    "# Removing the standardization from the intercept\n",
    "mean = pd.Series(scaler.mean_, index = model1.params[1:].index)\n",
    "mean = mean.filter(items = model3.params[1:].index)\n",
    "print('const', np.round(model3.params[0] - np.sum(model3.params[1:] * (mean / std)),3))"
   ]
  },
  {
   "cell_type": "markdown",
   "metadata": {},
   "source": [
    "The model:\n",
    "\n",
    "target = 29.20 + 4.58*RM + 3*CHAS + 0.12*RAD + 0.01*B - 0.11*CRIM - 0.51*LSTAT - 1.02*PTRATIO - 1.24*DIS - 19.69NOX\n",
    "\n",
    "A change of 4.58 on average is expected in target when RM changes in 1 unit, while a change of -19.69 on average occurs when NOX varies 1 unit. In this case, RM, CHAS, RAD contributes to increase the price of the house, while CRIM, LSTAT, PTRATIO, DIS and NOX decreases the price of the house."
   ]
  }
 ],
 "metadata": {
  "kernelspec": {
   "display_name": "Python 3",
   "language": "python",
   "name": "python3"
  },
  "language_info": {
   "codemirror_mode": {
    "name": "ipython",
    "version": 3
   },
   "file_extension": ".py",
   "mimetype": "text/x-python",
   "name": "python",
   "nbconvert_exporter": "python",
   "pygments_lexer": "ipython3",
   "version": "3.7.3"
  }
 },
 "nbformat": 4,
 "nbformat_minor": 2
}
